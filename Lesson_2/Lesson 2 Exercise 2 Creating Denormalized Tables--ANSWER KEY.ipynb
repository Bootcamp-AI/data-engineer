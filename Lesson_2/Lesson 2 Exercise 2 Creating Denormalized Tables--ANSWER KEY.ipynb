{
 "cells": [
  {
   "cell_type": "markdown",
   "source": [
    "# Lesson 2 Exercise 2 Solution: Creating Denormalized Tables\n",
    "\n",
    "<img src=\"images/postgresSQLlogo.png\" width=\"250\" height=\"250\">"
   ],
   "metadata": {}
  },
  {
   "cell_type": "code",
   "execution_count": null,
   "source": [],
   "outputs": [],
   "metadata": {}
  },
  {
   "cell_type": "code",
   "execution_count": null,
   "source": [],
   "outputs": [],
   "metadata": {}
  },
  {
   "cell_type": "markdown",
   "source": [
    "### Walk through the basics of modeling data from normalized from to denormalized form. We will create tables in PostgreSQL, insert rows of data, and do simple JOIN SQL queries to show how these mutliple tables can work together. \n",
    "\n",
    "#### Remember the examples shown are simple, but imagine these situations at scale with large datasets, many users, and the need for quick response time. "
   ],
   "metadata": {}
  },
  {
   "cell_type": "markdown",
   "source": [
    "### Import the library \n",
    "Note: An error might popup after this command has exectuted. If it does read it careful before ignoring. "
   ],
   "metadata": {}
  },
  {
   "cell_type": "code",
   "execution_count": 1,
   "source": [
    "import psycopg2"
   ],
   "outputs": [],
   "metadata": {}
  },
  {
   "cell_type": "markdown",
   "source": [
    "### Create a connection to the database, get a cursor, and set autocommit to true"
   ],
   "metadata": {}
  },
  {
   "cell_type": "code",
   "execution_count": 2,
   "source": [
    "try: \r\n",
    "    conn = psycopg2.connect(\"host=127.0.0.1 dbname=studentdb user=student password=student\")\r\n",
    "except psycopg2.Error as e: \r\n",
    "    print(\"Error: Could not make connection to the Postgres database\")\r\n",
    "    print(e)\r\n",
    "try: \r\n",
    "    cur = conn.cursor()\r\n",
    "except psycopg2.Error as e: \r\n",
    "    print(\"Error: Could not get cursor to the Database\")\r\n",
    "    print(e)\r\n",
    "conn.set_session(autocommit=True)"
   ],
   "outputs": [],
   "metadata": {}
  },
  {
   "cell_type": "markdown",
   "source": [
    "#### Let's start with our normalized (3NF) database set of tables we had in the last exercise but we have added a new table `sales`. \r\n",
    "\r\n",
    "`Table Name: transactions2 \r\n",
    "column 0: transaction Id\r\n",
    "column 1: Customer Name\r\n",
    "column 2: Cashier Id\r\n",
    "column 3: Year `\r\n",
    "\r\n",
    "`Table Name: albums_sold\r\n",
    "column 0: Album Id\r\n",
    "column 1: Transaction Id\r\n",
    "column 3: Album Name` \r\n",
    "\r\n",
    "`Table Name: employees\r\n",
    "column 0: Employee Id\r\n",
    "column 1: Employee Name `\r\n",
    "\r\n",
    "`Table Name: sales\r\n",
    "column 0: Transaction Id\r\n",
    "column 1: Amount Spent\r\n",
    "`\r\n",
    "<img src=\"images/table16.png\" width=\"450\" height=\"450\"> <img src=\"images/table15.png\" width=\"450\" height=\"450\"> <img src=\"images/table17.png\" width=\"350\" height=\"350\"> <img src=\"images/table18.png\" width=\"350\" height=\"350\">\r\n"
   ],
   "metadata": {}
  },
  {
   "cell_type": "markdown",
   "source": [
    "### We add CREATE statements for all tables and INSERT data into the tables"
   ],
   "metadata": {}
  },
  {
   "cell_type": "code",
   "execution_count": 3,
   "source": [
    "try: \r\n",
    "    cur.execute(\"CREATE TABLE IF NOT EXISTS transactions2 (transaction_id int, \\\r\n",
    "                                                           customer_name varchar, cashier_id int, \\\r\n",
    "                                                           year int);\")\r\n",
    "except psycopg2.Error as e: \r\n",
    "    print(\"Error: Issue creating table\")\r\n",
    "    print (e)\r\n",
    "\r\n",
    "try: \r\n",
    "    cur.execute(\"CREATE TABLE IF NOT EXISTS employees (employee_id int, \\\r\n",
    "                                                       employee_name varchar);\")\r\n",
    "except psycopg2.Error as e: \r\n",
    "    print(\"Error: Issue creating table\")\r\n",
    "    print (e)\r\n",
    "\r\n",
    "try: \r\n",
    "    cur.execute(\"CREATE TABLE IF NOT EXISTS albums_sold (album_id int, transaction_id int, \\\r\n",
    "                                                          album_name varchar);\")\r\n",
    "except psycopg2.Error as e: \r\n",
    "    print(\"Error: Issue creating table\")\r\n",
    "    print (e)\r\n",
    "\r\n",
    "try: \r\n",
    "    cur.execute(\"CREATE TABLE IF NOT EXISTS sales (transaction_id int, amount_spent int);\")\r\n",
    "except psycopg2.Error as e: \r\n",
    "    print(\"Error: Issue creating table\")\r\n",
    "    print (e)\r\n",
    "\r\n",
    "    \r\n",
    "try: \r\n",
    "    cur.execute(\"INSERT INTO transactions2 (transaction_id, customer_name, cashier_id, year) \\\r\n",
    "                 VALUES (%s, %s, %s, %s)\", \\\r\n",
    "                 (1, \"Amanda\", 1, 2000))\r\n",
    "except psycopg2.Error as e: \r\n",
    "    print(\"Error: Inserting Rows\")\r\n",
    "    print (e)\r\n",
    "\r\n",
    "try: \r\n",
    "    cur.execute(\"INSERT INTO transactions2 (transaction_id, customer_name, cashier_id, year) \\\r\n",
    "                 VALUES (%s, %s, %s, %s)\", \\\r\n",
    "                 (2, \"Toby\", 1, 2000))\r\n",
    "except psycopg2.Error as e: \r\n",
    "    print(\"Error: Inserting Rows\")\r\n",
    "    print (e)\r\n",
    "    \r\n",
    "try: \r\n",
    "    cur.execute(\"INSERT INTO transactions2 (transaction_id, customer_name, cashier_id, year) \\\r\n",
    "                 VALUES (%s, %s, %s, %s)\", \\\r\n",
    "                 (3, \"Max\", 2, 2018))\r\n",
    "except psycopg2.Error as e: \r\n",
    "    print(\"Error: Inserting Rows\")\r\n",
    "    print (e)\r\n",
    "    \r\n",
    "try: \r\n",
    "    cur.execute(\"INSERT INTO albums_sold (album_id, transaction_id, album_name) \\\r\n",
    "                 VALUES (%s, %s, %s)\", \\\r\n",
    "                 (1, 1, \"Rubber Soul\"))\r\n",
    "except psycopg2.Error as e: \r\n",
    "    print(\"Error: Inserting Rows\")\r\n",
    "    print (e)\r\n",
    "\r\n",
    "try: \r\n",
    "    cur.execute(\"INSERT INTO albums_sold (album_id, transaction_id, album_name) \\\r\n",
    "                 VALUES (%s, %s, %s)\", \\\r\n",
    "                 (2, 1, \"Let It Be\"))\r\n",
    "except psycopg2.Error as e: \r\n",
    "    print(\"Error: Inserting Rows\")\r\n",
    "    print (e)\r\n",
    "    \r\n",
    "try: \r\n",
    "    cur.execute(\"INSERT INTO albums_sold (album_id, transaction_id, album_name) \\\r\n",
    "                 VALUES (%s, %s, %s)\", \\\r\n",
    "                 (3, 2, \"My Generation\"))\r\n",
    "except psycopg2.Error as e: \r\n",
    "    print(\"Error: Inserting Rows\")\r\n",
    "    print (e)\r\n",
    "    \r\n",
    "try: \r\n",
    "    cur.execute(\"INSERT INTO albums_sold (album_id, transaction_id, album_name) \\\r\n",
    "                 VALUES (%s, %s, %s)\", \\\r\n",
    "                 (4, 3, \"Meet the Beatles\"))\r\n",
    "except psycopg2.Error as e: \r\n",
    "    print(\"Error: Inserting Rows\")\r\n",
    "    print (e)\r\n",
    "\r\n",
    "try: \r\n",
    "    cur.execute(\"INSERT INTO albums_sold (album_id, transaction_id, album_name) \\\r\n",
    "                 VALUES (%s, %s, %s)\", \\\r\n",
    "                 (5, 3, \"Help!\"))\r\n",
    "except psycopg2.Error as e: \r\n",
    "    print(\"Error: Inserting Rows\")\r\n",
    "    print (e)\r\n",
    "\r\n",
    "try: \r\n",
    "    cur.execute(\"INSERT INTO employees (employee_id, employee_name) \\\r\n",
    "                 VALUES (%s, %s)\", \\\r\n",
    "                 (1, \"Sam\"))\r\n",
    "except psycopg2.Error as e: \r\n",
    "    print(\"Error: Inserting Rows\")\r\n",
    "    print (e)\r\n",
    "\r\n",
    "try: \r\n",
    "    cur.execute(\"INSERT INTO employees (employee_id, employee_name) \\\r\n",
    "                 VALUES (%s, %s)\", \\\r\n",
    "                 (2, \"Bob\"))\r\n",
    "except psycopg2.Error as e: \r\n",
    "    print(\"Error: Inserting Rows\")\r\n",
    "    print (e)    \r\n",
    "    \r\n",
    "try: \r\n",
    "    cur.execute(\"INSERT INTO sales (transaction_id, amount_spent) \\\r\n",
    "                 VALUES (%s, %s)\", \\\r\n",
    "                 (1, 40))\r\n",
    "except psycopg2.Error as e: \r\n",
    "    print(\"Error: Inserting Rows\")\r\n",
    "    print (e)    \r\n",
    "    \r\n",
    "try: \r\n",
    "    cur.execute(\"INSERT INTO sales (transaction_id, amount_spent) \\\r\n",
    "                 VALUES (%s, %s)\", \\\r\n",
    "                 (2, 19))\r\n",
    "except psycopg2.Error as e: \r\n",
    "    print(\"Error: Inserting Rows\")\r\n",
    "    print (e) \r\n",
    "\r\n",
    "try: \r\n",
    "    cur.execute(\"INSERT INTO sales (transaction_id, amount_spent) \\\r\n",
    "                 VALUES (%s, %s)\", \\\r\n",
    "                 (3, 45))\r\n",
    "except psycopg2.Error as e: \r\n",
    "    print(\"Error: Inserting Rows\")\r\n",
    "    print (e) "
   ],
   "outputs": [],
   "metadata": {}
  },
  {
   "cell_type": "markdown",
   "source": [
    "### Confirm the tables were created with the data"
   ],
   "metadata": {}
  },
  {
   "cell_type": "code",
   "execution_count": 4,
   "source": [
    "print(\"Table: transactions2\\n\")\r\n",
    "try: \r\n",
    "    cur.execute(\"SELECT * FROM transactions2;\")\r\n",
    "except psycopg2.Error as e: \r\n",
    "    print(\"Error: select *\")\r\n",
    "    print (e)\r\n",
    "\r\n",
    "row = cur.fetchone()\r\n",
    "while row:\r\n",
    "   print(row)\r\n",
    "   row = cur.fetchone()\r\n",
    "\r\n",
    "print(\"\\nTable: albums_sold\\n\")\r\n",
    "try: \r\n",
    "    cur.execute(\"SELECT * FROM albums_sold;\")\r\n",
    "except psycopg2.Error as e: \r\n",
    "    print(\"Error: select *\")\r\n",
    "    print (e)\r\n",
    "\r\n",
    "row = cur.fetchone()\r\n",
    "while row:\r\n",
    "   print(row)\r\n",
    "   row = cur.fetchone()\r\n",
    "\r\n",
    "print(\"\\nTable: employees\\n\")\r\n",
    "try: \r\n",
    "    cur.execute(\"SELECT * FROM employees;\")\r\n",
    "except psycopg2.Error as e: \r\n",
    "    print(\"Error: select *\")\r\n",
    "    print (e)\r\n",
    "\r\n",
    "row = cur.fetchone()\r\n",
    "while row:\r\n",
    "   print(row)\r\n",
    "   row = cur.fetchone()\r\n",
    "    \r\n",
    "print(\"\\nTable: Sales\\n\")\r\n",
    "try: \r\n",
    "    cur.execute(\"SELECT * FROM sales;\")\r\n",
    "except psycopg2.Error as e: \r\n",
    "    print(\"Error: select *\")\r\n",
    "    print (e)\r\n",
    "\r\n",
    "row = cur.fetchone()\r\n",
    "while row:\r\n",
    "   print(row)\r\n",
    "   row = cur.fetchone()"
   ],
   "outputs": [
    {
     "output_type": "stream",
     "name": "stdout",
     "text": [
      "Table: transactions2\n",
      "\n",
      "(1, 'Amanda', 1, 2000)\n",
      "(2, 'Toby', 1, 2000)\n",
      "(3, 'Max', 2, 2018)\n",
      "\n",
      "Table: albums_sold\n",
      "\n",
      "(1, 1, 'Rubber Soul')\n",
      "(2, 1, 'Let It Be')\n",
      "(3, 2, 'My Generation')\n",
      "(4, 3, 'Meet the Beatles')\n",
      "(5, 3, 'Help!')\n",
      "\n",
      "Table: employees\n",
      "\n",
      "(1, 'Sam')\n",
      "(2, 'Bob')\n",
      "\n",
      "Table: Sales\n",
      "\n",
      "(1, 40)\n",
      "(2, 19)\n",
      "(3, 45)\n"
     ]
    }
   ],
   "metadata": {}
  },
  {
   "cell_type": "markdown",
   "source": [
    "#### Let's say we need to do a query that gives us:\r\n",
    "\r\n",
    "`transaction_id\r\n",
    " customer_name\r\n",
    " cashier name\r\n",
    " year \r\n",
    " albums sold\r\n",
    " amount sold` \r\n",
    "\r\n",
    "we will need to perform a 3 way `JOIN` on the 4 tables we have created. "
   ],
   "metadata": {}
  },
  {
   "cell_type": "code",
   "execution_count": 5,
   "source": [
    "try: \r\n",
    "    cur.execute(\"SELECT transactions2.transaction_id, customer_name, employees.employee_name, \\\r\n",
    "                        year, albums_sold.album_name, sales.amount_spent\\\r\n",
    "                  FROM ((transactions2 JOIN employees ON \\\r\n",
    "                         transactions2.cashier_id = employees.employee_id) JOIN \\\r\n",
    "                         albums_sold ON albums_sold.transaction_id=transactions2.transaction_id) JOIN\\\r\n",
    "                         sales ON transactions2.transaction_id=sales.transaction_id;\")\r\n",
    "    \r\n",
    "    \r\n",
    "except psycopg2.Error as e: \r\n",
    "    print(\"Error: select *\")\r\n",
    "    print (e)\r\n",
    "\r\n",
    "row = cur.fetchone()\r\n",
    "while row:\r\n",
    "   print(row)\r\n",
    "   row = cur.fetchone()"
   ],
   "outputs": [
    {
     "output_type": "stream",
     "name": "stdout",
     "text": [
      "(1, 'Amanda', 'Sam', 2000, 'Rubber Soul', 40)\n",
      "(1, 'Amanda', 'Sam', 2000, 'Let It Be', 40)\n",
      "(2, 'Toby', 'Sam', 2000, 'My Generation', 19)\n",
      "(3, 'Max', 'Bob', 2018, 'Meet the Beatles', 45)\n",
      "(3, 'Max', 'Bob', 2018, 'Help!', 45)\n"
     ]
    }
   ],
   "metadata": {}
  },
  {
   "cell_type": "markdown",
   "source": [
    "#### Great we were able to get the data we wanted.\r\n",
    "\r\n",
    "But, we had a to 3 way `JOIN` to get there. While it's great we had that flexibility, we need to remember that joins are slow and if we have a read heavy workload that required low latency queries we want to reduce the number of `JOINS`.  Let's think about denormalizing our normalized tables."
   ],
   "metadata": {}
  },
  {
   "cell_type": "markdown",
   "source": [
    "###  With denormalization we want to think about the queries we are running and how we can reduce our number of JOINS even if that means duplicating data "
   ],
   "metadata": {}
  },
  {
   "cell_type": "markdown",
   "source": [
    "#### Query 1 : `select transaction_id, customer_name, amount_sent FROM <min number of tables>` \r\n",
    "This should give the amount spent on each transaction \r\n",
    "#### Query 2: `select cashier_name, SUM(amount_spent) FROM <min number of tables> GROUP BY cashier_name` \r\n",
    "This should give the total sales by cashier "
   ],
   "metadata": {}
  },
  {
   "cell_type": "markdown",
   "source": [
    "###  Query 1: `select transaction_id, customer_name, amount_spent FROM <min number of tables>`\r\n",
    "\r\n",
    "There are two ways to do this, you can do a JOIN on the `sales` and `transactions2` table but we want to minimize the use of `JOINS`.  \r\n",
    "\r\n",
    "Let's add `amount_spent` to the `transactions` table so that we will not need to do a JOIN at all. \r\n",
    "\r\n",
    "`Table Name: transactions \r\n",
    "column 0: transaction Id\r\n",
    "column 1: Customer Name\r\n",
    "column 2: Cashier Id\r\n",
    "column 3: Year\r\n",
    "column 4: amount_spent`\r\n",
    "\r\n",
    "<img src=\"images/table19.png\" width=\"450\" height=\"450\">\r\n"
   ],
   "metadata": {}
  },
  {
   "cell_type": "code",
   "execution_count": 6,
   "source": [
    "#Create all Tables and insert the data\r\n",
    "\r\n",
    "try: \r\n",
    "    cur.execute(\"CREATE TABLE IF NOT EXISTS transactions (transaction_id int, \\\r\n",
    "                                                           customer_name varchar, cashier_id int, \\\r\n",
    "                                                           year int, amount_spent int);\")\r\n",
    "except psycopg2.Error as e: \r\n",
    "    print(\"Error: Issue creating table\")\r\n",
    "    print (e)\r\n",
    "\r\n",
    "\r\n",
    "\r\n",
    "#Insert into all tables \r\n",
    "    \r\n",
    "try: \r\n",
    "    cur.execute(\"INSERT INTO transactions (transaction_id, customer_name, cashier_id, year, amount_spent) \\\r\n",
    "                 VALUES (%s, %s, %s, %s, %s)\", \\\r\n",
    "                 (1, \"Amanda\", 1, 2000, 40))\r\n",
    "except psycopg2.Error as e: \r\n",
    "    print(\"Error: Inserting Rows\")\r\n",
    "    print (e)\r\n",
    "    \r\n",
    "try: \r\n",
    "    cur.execute(\"INSERT INTO transactions (transaction_id, customer_name, cashier_id, year, amount_spent) \\\r\n",
    "                 VALUES (%s, %s, %s, %s, %s)\", \\\r\n",
    "                 (2, \"Toby\", 1, 2000, 19))\r\n",
    "except psycopg2.Error as e: \r\n",
    "    print(\"Error: Inserting Rows\")\r\n",
    "    print (e)\r\n",
    "    \r\n",
    "try: \r\n",
    "    cur.execute(\"INSERT INTO transactions (transaction_id, customer_name, cashier_id, year, amount_spent) \\\r\n",
    "                 VALUES (%s, %s, %s, %s, %s)\", \\\r\n",
    "                 (3, \"Max\", 2, 2018, 45))\r\n",
    "except psycopg2.Error as e: \r\n",
    "    print(\"Error: Inserting Rows\")\r\n",
    "    print (e)"
   ],
   "outputs": [],
   "metadata": {}
  },
  {
   "cell_type": "markdown",
   "source": [
    "### Great we can now do a simplifed query to get the information we need. No  `JOIN` is needed."
   ],
   "metadata": {}
  },
  {
   "cell_type": "code",
   "execution_count": 7,
   "source": [
    "try: \r\n",
    "    cur.execute(\"SELECT transaction_id, customer_name, amount_spent FROM transactions;\")\r\n",
    "        \r\n",
    "except psycopg2.Error as e: \r\n",
    "    print(\"Error: select *\")\r\n",
    "    print (e)\r\n",
    "\r\n",
    "row = cur.fetchone()\r\n",
    "while row:\r\n",
    "   print(row)\r\n",
    "   row = cur.fetchone()"
   ],
   "outputs": [
    {
     "output_type": "stream",
     "name": "stdout",
     "text": [
      "(1, 'Amanda', 40)\n",
      "(2, 'Toby', 19)\n",
      "(3, 'Max', 45)\n"
     ]
    }
   ],
   "metadata": {}
  },
  {
   "cell_type": "markdown",
   "source": [
    "### Query 2: `select cashier_name, SUM(amount_spent) FROM <min number of tables> GROUP BY cashier_name` \r\n",
    "\r\n",
    "We could also do a `JOIN` on the tables we have created, but what if we do not want to have any `JOINS`, why not create a new table with just the information we need. \r\n",
    "\r\n",
    "`Table Name: cashier_sales\r\n",
    "col: Transaction Id\r\n",
    "Col: Cashier Name\r\n",
    "Col: Cashier Id\r\n",
    "col: Amount_Spent\r\n",
    "`\r\n",
    "\r\n",
    "<img src=\"images/table20.png\" width=\"350\" height=\"350\">"
   ],
   "metadata": {}
  },
  {
   "cell_type": "code",
   "execution_count": 7,
   "source": [
    "try: \r\n",
    "    cur.execute(\"CREATE TABLE IF NOT EXISTS cashier_sales (transaction_id int, cashier_name varchar, \\\r\n",
    "                                                           cashier_id int, amount_spent int);\")\r\n",
    "except psycopg2.Error as e: \r\n",
    "    print(\"Error: Issue creating table\")\r\n",
    "    print (e)\r\n",
    "\r\n",
    "\r\n",
    "#Insert into all tables \r\n",
    "    \r\n",
    "try: \r\n",
    "    cur.execute(\"INSERT INTO cashier_sales (transaction_id, cashier_name, cashier_id, amount_spent) \\\r\n",
    "                 VALUES (%s, %s, %s, %s)\", \\\r\n",
    "                 (1, \"Sam\", 1, 40 ))\r\n",
    "except psycopg2.Error as e: \r\n",
    "    print(\"Error: Inserting Rows\")\r\n",
    "    print (e)\r\n",
    "\r\n",
    "try: \r\n",
    "    cur.execute(\"INSERT INTO cashier_sales (transaction_id, cashier_name, cashier_id, amount_spent) \\\r\n",
    "                 VALUES (%s, %s, %s, %s)\", \\\r\n",
    "                 (2, \"Sam\", 1, 19 ))\r\n",
    "except psycopg2.Error as e: \r\n",
    "    print(\"Error: Inserting Rows\")\r\n",
    "    print (e)\r\n",
    "\r\n",
    "try: \r\n",
    "    cur.execute(\"INSERT INTO cashier_sales (transaction_id, cashier_name, cashier_id, amount_spent) \\\r\n",
    "                 VALUES (%s, %s, %s, %s)\", \\\r\n",
    "                 (3, \"Max\", 2, 45))\r\n",
    "except psycopg2.Error as e: \r\n",
    "    print(\"Error: Inserting Rows\")\r\n",
    "    print (e)"
   ],
   "outputs": [],
   "metadata": {}
  },
  {
   "cell_type": "markdown",
   "source": [
    "#### Now let's run our query"
   ],
   "metadata": {}
  },
  {
   "cell_type": "code",
   "execution_count": 9,
   "source": [
    "try: \r\n",
    "    cur.execute(\"select cashier_name, SUM(amount_spent) FROM cashier_sales GROUP BY cashier_name;\")\r\n",
    "        \r\n",
    "except psycopg2.Error as e: \r\n",
    "    print(\"Error: select *\")\r\n",
    "    print (e)\r\n",
    "\r\n",
    "row = cur.fetchone()\r\n",
    "while row:\r\n",
    "   print(row)\r\n",
    "   row = cur.fetchone()"
   ],
   "outputs": [
    {
     "output_type": "stream",
     "name": "stdout",
     "text": [
      "('Sam', 59)\n",
      "('Max', 45)\n"
     ]
    }
   ],
   "metadata": {}
  },
  {
   "cell_type": "markdown",
   "source": [
    "#### We have successfully taken normalized table and denormalized them in order to speed up our performance and allow for simplier queries to be executed. "
   ],
   "metadata": {}
  },
  {
   "cell_type": "markdown",
   "source": [
    "### Drop the tables. "
   ],
   "metadata": {}
  },
  {
   "cell_type": "code",
   "execution_count": 8,
   "source": [
    "try: \r\n",
    "    cur.execute(\"DROP table albums_sold\")\r\n",
    "except psycopg2.Error as e: \r\n",
    "    print(\"Error: Dropping table\")\r\n",
    "    print (e)\r\n",
    "try: \r\n",
    "    cur.execute(\"DROP table employees\")\r\n",
    "except psycopg2.Error as e: \r\n",
    "    print(\"Error: Dropping table\")\r\n",
    "    print (e)\r\n",
    "try: \r\n",
    "    cur.execute(\"DROP table transactions\")\r\n",
    "except psycopg2.Error as e: \r\n",
    "    print(\"Error: Dropping table\")\r\n",
    "    print (e)\r\n",
    "try: \r\n",
    "    cur.execute(\"DROP table transactions2\")\r\n",
    "except psycopg2.Error as e: \r\n",
    "    print(\"Error: Dropping table\")\r\n",
    "    print (e)\r\n",
    "try: \r\n",
    "    cur.execute(\"DROP table sales\")\r\n",
    "except psycopg2.Error as e: \r\n",
    "    print(\"Error: Dropping table\")\r\n",
    "    print (e)\r\n",
    "try: \r\n",
    "    cur.execute(\"DROP table cashier_sales\")\r\n",
    "except psycopg2.Error as e: \r\n",
    "    print(\"Error: Dropping table\")\r\n",
    "    print (e)"
   ],
   "outputs": [],
   "metadata": {}
  },
  {
   "cell_type": "markdown",
   "source": [
    "### And finally close your cursor and connection. "
   ],
   "metadata": {}
  },
  {
   "cell_type": "code",
   "execution_count": 9,
   "source": [
    "cur.close()\r\n",
    "conn.close()"
   ],
   "outputs": [],
   "metadata": {}
  },
  {
   "cell_type": "code",
   "execution_count": null,
   "source": [],
   "outputs": [],
   "metadata": {}
  }
 ],
 "metadata": {
  "kernelspec": {
   "display_name": "Python 3",
   "language": "python",
   "name": "python3"
  },
  "language_info": {
   "codemirror_mode": {
    "name": "ipython",
    "version": 3
   },
   "file_extension": ".py",
   "mimetype": "text/x-python",
   "name": "python",
   "nbconvert_exporter": "python",
   "pygments_lexer": "ipython3",
   "version": "3.6.3"
  }
 },
 "nbformat": 4,
 "nbformat_minor": 2
}