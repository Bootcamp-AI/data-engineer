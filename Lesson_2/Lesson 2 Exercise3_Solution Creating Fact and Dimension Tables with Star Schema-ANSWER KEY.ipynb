{
 "cells": [
  {
   "cell_type": "markdown",
   "source": [
    "# Lesson 2 Demo 3: Creating Fact and Dimension Tables with Star Schema\r\n",
    "\r\n",
    "<img src=\"images/postgresSQLlogo.png\" width=\"250\" height=\"250\">"
   ],
   "metadata": {}
  },
  {
   "cell_type": "markdown",
   "source": [
    "## Walk through the basics of modeling data using Fact and Dimension tables.  You will create both Fact and Dimension tables and show how this is a basic element of the Star Schema."
   ],
   "metadata": {}
  },
  {
   "cell_type": "markdown",
   "source": [
    "#### Import the library \n",
    "Note: An error might popup after this command has exectuted. If it does read it careful before ignoring. "
   ],
   "metadata": {}
  },
  {
   "cell_type": "code",
   "execution_count": 1,
   "source": [
    "import psycopg2"
   ],
   "outputs": [],
   "metadata": {}
  },
  {
   "cell_type": "markdown",
   "source": [
    "### Create a connection to the database"
   ],
   "metadata": {}
  },
  {
   "cell_type": "code",
   "execution_count": 2,
   "source": [
    "try: \r\n",
    "    conn = psycopg2.connect(\"host=127.0.0.1 dbname=studentdb user=student password=student\")\r\n",
    "except psycopg2.Error as e: \r\n",
    "    print(\"Error: Could not make connection to the Postgres database\")\r\n",
    "    print(e)"
   ],
   "outputs": [],
   "metadata": {}
  },
  {
   "cell_type": "markdown",
   "source": [
    "### Next use that connect to get a cursor that we will use to execute queries."
   ],
   "metadata": {}
  },
  {
   "cell_type": "code",
   "execution_count": 3,
   "source": [
    "try: \r\n",
    "    cur = conn.cursor()\r\n",
    "except psycopg2.Error as e: \r\n",
    "    print(\"Error: Could not get cursor to the Database\")\r\n",
    "    print(e)"
   ],
   "outputs": [],
   "metadata": {}
  },
  {
   "cell_type": "markdown",
   "source": [
    "#### For this demo we will use automactic commit so that each action is commited without having to call conn.commit() after each command. The ability to rollback and commit transactions are a feature of Relational Databases. "
   ],
   "metadata": {}
  },
  {
   "cell_type": "code",
   "execution_count": 4,
   "source": [
    "conn.set_session(autocommit=True)"
   ],
   "outputs": [],
   "metadata": {}
  },
  {
   "cell_type": "markdown",
   "source": [
    " Let's imagine we work at an online Music Store. There will be many tables in our database but let's just focus on 4 tables around customer purchases. \r\n",
    "\r\n",
    "`Table Name: customer_transactions\r\n",
    "column: Customer Id\r\n",
    "column: Store Id\r\n",
    "column: Spent`\r\n",
    "\r\n",
    "`Table Name: Customer\r\n",
    "column: Customer Id\r\n",
    "column: Name\r\n",
    "column: Rewards`\r\n",
    "\r\n",
    "`Table Name: store\r\n",
    "column: Store Id\r\n",
    "column: State`\r\n",
    "\r\n",
    "`Table Name: items_purchased\r\n",
    "column: customer id\r\n",
    "column: Item Name`\r\n",
    "\r\n",
    "<img src=\"images/starSchema.png\" width=\"750\" height=\"750\">\r\n",
    "\r\n",
    "#### From this representation we can already start to see the makings of a \"STAR\". We have one fact table (the center of the star) and 3  dimension tables that are coming from it."
   ],
   "metadata": {}
  },
  {
   "cell_type": "markdown",
   "source": [
    "### Create the Fact Table and insert the data into the table"
   ],
   "metadata": {}
  },
  {
   "cell_type": "code",
   "execution_count": 5,
   "source": [
    "try: \r\n",
    "    cur.execute(\"CREATE TABLE IF NOT EXISTS customer_transactions (customer_id int, store_id int, spent numeric);\")\r\n",
    "except psycopg2.Error as e: \r\n",
    "    print(\"Error: Issue creating table\")\r\n",
    "    print (e)\r\n",
    "    \r\n",
    "#Insert into all tables \r\n",
    "try: \r\n",
    "    cur.execute(\"INSERT INTO customer_transactions (customer_id, store_id, spent) \\\r\n",
    "                 VALUES (%s, %s, %s)\", \\\r\n",
    "                 (1, 1, 20.50))\r\n",
    "except psycopg2.Error as e: \r\n",
    "    print(\"Error: Inserting Rows\")\r\n",
    "    print (e)\r\n",
    "try: \r\n",
    "    cur.execute(\"INSERT INTO customer_transactions (customer_id, store_id, spent) \\\r\n",
    "                 VALUES (%s, %s, %s)\", \\\r\n",
    "                 (2, 1, 35.21))\r\n",
    "except psycopg2.Error as e: \r\n",
    "    print(\"Error: Inserting Rows\")\r\n",
    "    print (e)\r\n"
   ],
   "outputs": [],
   "metadata": {}
  },
  {
   "cell_type": "markdown",
   "source": [
    "### Create our Dimension Tables and insert data into those tables."
   ],
   "metadata": {}
  },
  {
   "cell_type": "code",
   "execution_count": 6,
   "source": [
    "try: \r\n",
    "    cur.execute(\"CREATE TABLE IF NOT EXISTS items_purchased (customer_id int, item_number int, item_name varchar);\")\r\n",
    "except psycopg2.Error as e: \r\n",
    "    print(\"Error: Issue creating table\")\r\n",
    "    print (e)\r\n",
    "    \r\n",
    "try: \r\n",
    "    cur.execute(\"INSERT INTO items_purchased (customer_id, item_number, item_name) \\\r\n",
    "                 VALUES (%s, %s, %s)\", \\\r\n",
    "                 (1, 1, \"Rubber Soul\"))\r\n",
    "except psycopg2.Error as e: \r\n",
    "    print(\"Error: Inserting Rows\")\r\n",
    "    print (e)\r\n",
    "    \r\n",
    "try: \r\n",
    "    cur.execute(\"INSERT INTO items_purchased (customer_id, item_number, item_name) \\\r\n",
    "                 VALUES (%s, %s, %s)\", \\\r\n",
    "                 (2, 3, \"Let It Be\"))\r\n",
    "except psycopg2.Error as e: \r\n",
    "    print(\"Error: Inserting Rows\")\r\n",
    "    print (e)\r\n",
    "    \r\n",
    "try: \r\n",
    "    cur.execute(\"CREATE TABLE IF NOT EXISTS store (store_id int, state varchar);\")\r\n",
    "except psycopg2.Error as e: \r\n",
    "    print(\"Error: Issue creating table\")\r\n",
    "    print (e)\r\n",
    "    \r\n",
    "try: \r\n",
    "    cur.execute(\"INSERT INTO store (store_id, state) \\\r\n",
    "                 VALUES (%s, %s)\", \\\r\n",
    "                 (1, \"CA\"))\r\n",
    "except psycopg2.Error as e: \r\n",
    "    print(\"Error: Inserting Rows\")\r\n",
    "    print (e)\r\n",
    "try: \r\n",
    "    cur.execute(\"INSERT INTO store (store_id, state) \\\r\n",
    "                 VALUES (%s, %s)\", \\\r\n",
    "                 (2, \"WA\"))\r\n",
    "except psycopg2.Error as e: \r\n",
    "    print(\"Error: Inserting Rows\")\r\n",
    "    print (e)\r\n",
    "    \r\n",
    "try: \r\n",
    "    cur.execute(\"CREATE TABLE IF NOT EXISTS customer (customer_id int, name varchar, rewards boolean);\")\r\n",
    "except psycopg2.Error as e: \r\n",
    "    print(\"Error: Issue creating table\")\r\n",
    "    print (e)\r\n",
    "    \r\n",
    "try: \r\n",
    "    cur.execute(\"INSERT INTO customer (customer_id, name, rewards) \\\r\n",
    "                 VALUES (%s, %s, %s)\", \\\r\n",
    "                 (1, \"Amanda\", True))\r\n",
    "except psycopg2.Error as e: \r\n",
    "    print(\"Error: Inserting Rows\")\r\n",
    "    print (e)\r\n",
    "\r\n",
    "try: \r\n",
    "    cur.execute(\"INSERT INTO customer (customer_id, name, rewards) \\\r\n",
    "                 VALUES (%s, %s, %s)\", \\\r\n",
    "                 (2, \"Toby\", False))\r\n",
    "except psycopg2.Error as e: \r\n",
    "    print(\"Error: Inserting Rows\")\r\n",
    "    print (e)"
   ],
   "outputs": [],
   "metadata": {}
  },
  {
   "cell_type": "markdown",
   "source": [
    "### Now run the following queries on this data that utilize the Fact/Dimension and Star Schema\r\n",
    "\r\n",
    "#### Query 1: Find all the customers that spent more than 30 dollars, who are they, which store they bought it from, location of the store, what they bought and if they are a rewards member. \r\n",
    "\r\n",
    "#### Query 2: How much did Customer 2 spend"
   ],
   "metadata": {}
  },
  {
   "cell_type": "markdown",
   "source": [
    "### Query 1:  Find all the customers that spent more than 30 dollars, who are they, which store they bought it from, location of the store, what they bought and if they are a rewards member"
   ],
   "metadata": {}
  },
  {
   "cell_type": "code",
   "execution_count": 7,
   "source": [
    "try: \r\n",
    "    cur.execute(\"SELECT name, store.store_id, store.state, item_name, customer.rewards \\\r\n",
    "                                                FROM (((customer_transactions \\\r\n",
    "                                                JOIN customer ON customer.customer_id=customer_transactions.customer_id)\\\r\n",
    "                                                JOIN store ON \\\r\n",
    "                                                customer_transactions.store_id=store.store_id) \\\r\n",
    "                                                JOIN items_purchased ON \\\r\n",
    "                                                customer_transactions.customer_id=items_purchased.customer_id)\\\r\n",
    "                                                WHERE spent > 30 ;\")\r\n",
    "    \r\n",
    "    \r\n",
    "except psycopg2.Error as e: \r\n",
    "    print(\"Error: select *\")\r\n",
    "    print (e)\r\n",
    "\r\n",
    "row = cur.fetchone()\r\n",
    "while row:\r\n",
    "   print(row)\r\n",
    "   row = cur.fetchone()"
   ],
   "outputs": [
    {
     "output_type": "stream",
     "name": "stdout",
     "text": [
      "('Toby', 1, 'CA', 'Let It Be', False)\n"
     ]
    }
   ],
   "metadata": {}
  },
  {
   "cell_type": "markdown",
   "source": [
    "### Query 2: How much did Customer 2 spend?"
   ],
   "metadata": {}
  },
  {
   "cell_type": "code",
   "execution_count": 8,
   "source": [
    "try: \r\n",
    "    cur.execute(\"SELECT customer_id, SUM(spent) FROM customer_transactions \\\r\n",
    "                 WHERE customer_id = 2 GROUP BY customer_id;\")\r\n",
    "    \r\n",
    "    \r\n",
    "except psycopg2.Error as e: \r\n",
    "    print(\"Error: select *\")\r\n",
    "    print (e)\r\n",
    "\r\n",
    "row = cur.fetchone()\r\n",
    "while row:\r\n",
    "   print(row)\r\n",
    "   row = cur.fetchone()"
   ],
   "outputs": [
    {
     "output_type": "stream",
     "name": "stdout",
     "text": [
      "(2, Decimal('35.21'))\n"
     ]
    }
   ],
   "metadata": {}
  },
  {
   "cell_type": "markdown",
   "source": [
    "### Summary: You can see here from this elegant schema that we were: 1) able to get \"facts/metrics\" from our fact table (how much each store sold), and 2) information about our customers that will allow us to do more indepth analytics to get answers to business questions by utilizing our fact and dimension tables. "
   ],
   "metadata": {}
  },
  {
   "cell_type": "markdown",
   "source": [
    "### Drop the tables"
   ],
   "metadata": {}
  },
  {
   "cell_type": "code",
   "execution_count": 9,
   "source": [
    "try: \r\n",
    "    cur.execute(\"DROP table customer_transactions\")\r\n",
    "except psycopg2.Error as e: \r\n",
    "    print(\"Error: Dropping table\")\r\n",
    "    print (e)\r\n",
    "try: \r\n",
    "    cur.execute(\"DROP table items_purchased\")\r\n",
    "except psycopg2.Error as e: \r\n",
    "    print(\"Error: Dropping table\")\r\n",
    "    print (e)\r\n",
    "try: \r\n",
    "    cur.execute(\"DROP table customer\")\r\n",
    "except psycopg2.Error as e: \r\n",
    "    print(\"Error: Dropping table\")\r\n",
    "    print (e)\r\n",
    "try: \r\n",
    "    cur.execute(\"DROP table store\")\r\n",
    "except psycopg2.Error as e: \r\n",
    "    print(\"Error: Dropping table\")\r\n",
    "    print (e)"
   ],
   "outputs": [],
   "metadata": {}
  },
  {
   "cell_type": "markdown",
   "source": [
    "### And finally close your cursor and connection. "
   ],
   "metadata": {}
  },
  {
   "cell_type": "code",
   "execution_count": 10,
   "source": [
    "cur.close()\r\n",
    "conn.close()"
   ],
   "outputs": [],
   "metadata": {}
  },
  {
   "cell_type": "code",
   "execution_count": null,
   "source": [],
   "outputs": [],
   "metadata": {}
  }
 ],
 "metadata": {
  "kernelspec": {
   "display_name": "Python 3",
   "language": "python",
   "name": "python3"
  },
  "language_info": {
   "codemirror_mode": {
    "name": "ipython",
    "version": 3
   },
   "file_extension": ".py",
   "mimetype": "text/x-python",
   "name": "python",
   "nbconvert_exporter": "python",
   "pygments_lexer": "ipython3",
   "version": "3.6.3"
  }
 },
 "nbformat": 4,
 "nbformat_minor": 2
}